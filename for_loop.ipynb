{
 "cells": [
  {
   "cell_type": "code",
   "execution_count": 12,
   "id": "2dd4800d",
   "metadata": {},
   "outputs": [
    {
     "name": "stdout",
     "output_type": "stream",
     "text": [
      "[2, 3, 4, 5, 6]\n"
     ]
    }
   ],
   "source": [
    "l=[2,3,2,3,4,2,3,5,3,4,5,6,4,5]\n",
    "a=[]\n",
    "for i in l:\n",
    "    if i not in a:\n",
    "        a.append(i)\n",
    "print(a)        \n",
    "    \n",
    "\n",
    "      \n",
    "\n"
   ]
  },
  {
   "cell_type": "code",
   "execution_count": null,
   "id": "524160a9",
   "metadata": {},
   "outputs": [],
   "source": [
    "a=input(\"Enter the string--> \") #34fcgh34#$%^\n",
    "b=''\n",
    "c=''\n",
    "d=''\n",
    "summ=0\n",
    "for i in a:#i=3 #i=4 #i=f #i=c #i=#\n",
    "    if i.isdigit():#kya mera # digit hota hh? False\n",
    "        b=b+i  #b=34\n",
    "        summ=summ+int(i) #summ=0+3=3 #summ=3+4=7\n",
    "    elif i.isalpha():#kya mera # alphabet hota hh? False\n",
    "        c=c+i  #c=fc\n",
    "    else:\n",
    "        d=d+i #d=#\n",
    "print(\"Alphas--> \",c)\n",
    "print('Numbers--> ',b,'and the sum is -->',summ)\n",
    "print(\"Special caracters--> \",d)"
   ]
  },
  {
   "cell_type": "code",
   "execution_count": 1,
   "id": "1354fcfc",
   "metadata": {},
   "outputs": [
    {
     "name": "stdout",
     "output_type": "stream",
     "text": [
      "enter the number--> 5\n",
      "\n"
     ]
    }
   ],
   "source": [
    "x=input(\"enter the number--> \")#x=2A4G3R2T  #expecte output: AGGGGRRRTT\n",
    "a=''\n",
    "b=''\n",
    "c=''\n",
    "d=''\n",
    "for i in x: #i=1 #i=A #4 #i=G\n",
    "    if i.isdigit():# kya mera G digit hota h? False\n",
    "        a=i #a=4\n",
    "    else:\n",
    "        b=i #b=G\n",
    "        c=b*int(a)#c=A*1=A #c=GGGG\n",
    "        d=d+c #d='AGGGG'\n",
    "print(d)"
   ]
  },
  {
   "cell_type": "code",
   "execution_count": null,
   "id": "85dd218d",
   "metadata": {},
   "outputs": [],
   "source": [
    "l=[2,3,2,4,5,6,3,4,5,6,4,4,6,4,2,3,2,2,2,2,2]\n",
    "# max frequency=\n",
    "# how many time=\n",
    "l='asd/lg*dhfg@gh'\n",
    "# expected output: dsa/gl*gfhd@hg"
   ]
  },
  {
   "cell_type": "code",
   "execution_count": 2,
   "id": "4b55aa43",
   "metadata": {},
   "outputs": [
    {
     "ename": "NameError",
     "evalue": "name 'mx' is not defined",
     "output_type": "error",
     "traceback": [
      "\u001b[1;31m---------------------------------------------------------------------------\u001b[0m",
      "\u001b[1;31mNameError\u001b[0m                                 Traceback (most recent call last)",
      "Cell \u001b[1;32mIn[2], line 3\u001b[0m\n\u001b[0;32m      1\u001b[0m l\u001b[38;5;241m=\u001b[39m[\u001b[38;5;241m2\u001b[39m,\u001b[38;5;241m3\u001b[39m,\u001b[38;5;241m2\u001b[39m,\u001b[38;5;241m4\u001b[39m,\u001b[38;5;241m5\u001b[39m,\u001b[38;5;241m6\u001b[39m,\u001b[38;5;241m3\u001b[39m,\u001b[38;5;241m4\u001b[39m,\u001b[38;5;241m5\u001b[39m,\u001b[38;5;241m6\u001b[39m,\u001b[38;5;241m4\u001b[39m,\u001b[38;5;241m4\u001b[39m,\u001b[38;5;241m6\u001b[39m,\u001b[38;5;241m4\u001b[39m,\u001b[38;5;241m2\u001b[39m,\u001b[38;5;241m3\u001b[39m,\u001b[38;5;241m2\u001b[39m,\u001b[38;5;241m2\u001b[39m,\u001b[38;5;241m2\u001b[39m,\u001b[38;5;241m2\u001b[39m,\u001b[38;5;241m2\u001b[39m]\n\u001b[0;32m      2\u001b[0m a\u001b[38;5;241m=\u001b[39m[]    \u001b[38;5;66;03m#[2, 3, 4, 5, 6]\u001b[39;00m\n\u001b[1;32m----> 3\u001b[0m \u001b[43mmx\u001b[49m\n\u001b[0;32m      4\u001b[0m \u001b[38;5;28;01mfor\u001b[39;00m i \u001b[38;5;129;01min\u001b[39;00m l:\n\u001b[0;32m      5\u001b[0m       \u001b[38;5;28;01mif\u001b[39;00m i \u001b[38;5;129;01mnot\u001b[39;00m \u001b[38;5;129;01min\u001b[39;00m a:\n",
      "\u001b[1;31mNameError\u001b[0m: name 'mx' is not defined"
     ]
    }
   ],
   "source": [
    "l=[2,3,2,4,5,6,3,4,5,6,4,4,6,4,2,3,2,2,2,2,2]\n",
    "a=[]    #[2, 3, 4, 5, 6]\n",
    "mx\n",
    "for i in l:\n",
    "      if i not in a:\n",
    "            a.append(i)\n",
    "            #c = min(a) #2\n",
    "            #z=l.count(c)\n",
    "for j in a:\n",
    "    if j in l:\n",
    "        \n",
    "        h=l.count(j)\n",
    "        #print(j,\"count\",h)              \n",
    "        s=[h]\n",
    "        print()\n",
    "\n",
    "\n",
    "\n",
    "    \n",
    "                \n",
    "\n",
    "\n",
    "\n",
    "\n"
   ]
  },
  {
   "cell_type": "code",
   "execution_count": null,
   "id": "24b4928a",
   "metadata": {},
   "outputs": [],
   "source": []
  },
  {
   "cell_type": "code",
   "execution_count": 17,
   "id": "aa342312",
   "metadata": {},
   "outputs": [
    {
     "name": "stdout",
     "output_type": "stream",
     "text": [
      "1 count 3\n",
      "2 count 7\n",
      "3 count 10\n",
      "4 count 4\n",
      "5 count 2\n",
      "6 count 1\n",
      "number  3 with maximum frequency of 10\n"
     ]
    }
   ],
   "source": [
    "l=[1,2,3,4,2,3,3,3,3,3,1,1,3,4,2,3,4,5,6,3,4,5,3,2,2,2,2]\n",
    "a=[]    #[2, 3, 4, 5, 6]\n",
    "b2=[]\n",
    "for i in l:\n",
    "      if i not in a:\n",
    "            a.append(i)\n",
    "            #c = min(a) #2\n",
    "            #z=l.count(c)\n",
    "            for j in a:\n",
    "                if j in l:\n",
    "                    h=l.count(j)\n",
    "                \n",
    "            print(j,\"count\",h) \n",
    "                           \n",
    "\n",
    "                 \n",
    "                    \n",
    "           \n",
    "                                                            \n",
    "\n"
   ]
  },
  {
   "cell_type": "code",
   "execution_count": 12,
   "id": "028c912f",
   "metadata": {},
   "outputs": [
    {
     "name": "stdout",
     "output_type": "stream",
     "text": [
      "number  3 with maximum frequency of 10\n"
     ]
    }
   ],
   "source": [
    "l=[1,2,3,4,2,3,3,3,3,3,1,1,3,4,2,3,4,5,6,3,4,5,3,2,2,2,2]\n",
    "k=1\n",
    "for i in l:\n",
    "    if l.count(i)>k: \n",
    "        c=i \n",
    "        k=l.count(i) \n",
    "print('number ',c,'with maximum frequency of',k)"
   ]
  },
  {
   "cell_type": "code",
   "execution_count": 42,
   "id": "e0750b37",
   "metadata": {},
   "outputs": [
    {
     "name": "stdout",
     "output_type": "stream",
     "text": [
      "a\n",
      "s\n",
      "d\n",
      "\n"
     ]
    }
   ],
   "source": [
    "l='asd/lg*dhfg@gh'\n",
    "z=''\n",
    "# expected output: dsa/gl*gfhd@hg\n",
    "for i in l:\n",
    "    if i.isalpha():\n",
    "        print(i)\n",
    "        \n",
    "        \n",
    "        \n",
    "    else:\n",
    "        break\n",
    "print()\n",
    "        "
   ]
  },
  {
   "cell_type": "code",
   "execution_count": null,
   "id": "eeb41e47",
   "metadata": {},
   "outputs": [],
   "source": []
  },
  {
   "cell_type": "code",
   "execution_count": null,
   "id": "a3e5f20d",
   "metadata": {},
   "outputs": [],
   "source": []
  },
  {
   "cell_type": "code",
   "execution_count": null,
   "id": "a9d18b08",
   "metadata": {},
   "outputs": [],
   "source": []
  },
  {
   "cell_type": "code",
   "execution_count": null,
   "id": "f5c00f72",
   "metadata": {},
   "outputs": [],
   "source": []
  },
  {
   "cell_type": "code",
   "execution_count": null,
   "id": "cad4c741",
   "metadata": {},
   "outputs": [],
   "source": []
  },
  {
   "cell_type": "code",
   "execution_count": null,
   "id": "87c642dd",
   "metadata": {},
   "outputs": [],
   "source": []
  }
 ],
 "metadata": {
  "kernelspec": {
   "display_name": "Python 3 (ipykernel)",
   "language": "python",
   "name": "python3"
  },
  "language_info": {
   "codemirror_mode": {
    "name": "ipython",
    "version": 3
   },
   "file_extension": ".py",
   "mimetype": "text/x-python",
   "name": "python",
   "nbconvert_exporter": "python",
   "pygments_lexer": "ipython3",
   "version": "3.10.9"
  }
 },
 "nbformat": 4,
 "nbformat_minor": 5
}
