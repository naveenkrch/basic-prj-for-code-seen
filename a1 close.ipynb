{
 "cells": [
  {
   "cell_type": "code",
   "execution_count": 107,
   "id": "cbeaf469",
   "metadata": {},
   "outputs": [],
   "source": [
    "import pandas as pd\n",
    "import numpy as np\n",
    "import seaborn as sns"
   ]
  },
  {
   "cell_type": "code",
   "execution_count": 165,
   "id": "1c37116a",
   "metadata": {},
   "outputs": [],
   "source": [
    "x=pd.read_csv(\"Close_Date.csv\")"
   ]
  },
  {
   "cell_type": "code",
   "execution_count": 109,
   "id": "f123fe12",
   "metadata": {},
   "outputs": [
    {
     "data": {
      "text/plain": [
       "Index(['Zone', 'Site Address', 'Region', 'Opportunity ID', 'Opp Created On',\n",
       "       'Enquiry Created By', 'Customer Name', 'Contact Number', 'E-Mail',\n",
       "       'City', 'State', 'Pincode', 'Source of Enq', 'Sales Owner',\n",
       "       'Sales Owner ID', 'CSE Name', 'Nature of Work', 'Influencer Involved',\n",
       "       'Influencer Name', 'First Interaction Date', 'Site Visit Date',\n",
       "       'Persuasion Date', 'Showroom Visit Date', 'Boq Received Date',\n",
       "       'Product Category', 'Client expectation Price Bracket', 'Quote Segment',\n",
       "       'WM Order Type', 'WM Quote ID', 'First Quote Date', 'Latest Quote Date',\n",
       "       'Quote Review Date', 'Expected Closure Month', 'No. of Sales Quote',\n",
       "       'Won/Lost/In Process', 'Last Progression Stage', 'Order in Hand',\n",
       "       'Order in Hand Date', 'Status-Hot / Warm/ Cold', 'Remarks',\n",
       "       'Main Competitor', 'Reason for Status', 'Expected Site Readiness Date',\n",
       "       '1st Discount Given Date', '2nd Discount Given Date',\n",
       "       'Order Basis to Fenesta', 'Quote Area', 'Next Step',\n",
       "       'Next Step Due Date', 'Window Quantity',\n",
       "       'Window Area(Taken from Customer)', 'Expected Value', 'Quote Value',\n",
       "       'Gross Value', 'Net Value', 'Basic Value (at DP)', 'Standard Discount',\n",
       "       '1st Discount Given', 'Closed Customer value', 'Closed Basic value',\n",
       "       'MSC Material value', 'MSC Gross Value', 'Lost Price'],\n",
       "      dtype='object')"
      ]
     },
     "execution_count": 109,
     "metadata": {},
     "output_type": "execute_result"
    }
   ],
   "source": [
    "x.columns"
   ]
  },
  {
   "cell_type": "code",
   "execution_count": 134,
   "id": "71e3369c",
   "metadata": {},
   "outputs": [
    {
     "data": {
      "text/plain": [
       "Zone                     0\n",
       "Site Address             0\n",
       "Region                   0\n",
       "Opportunity ID           0\n",
       "Opp Created On           0\n",
       "                        ..\n",
       "Closed Customer value    0\n",
       "Closed Basic value       0\n",
       "MSC Material value       0\n",
       "MSC Gross Value          0\n",
       "Lost Price               0\n",
       "Length: 63, dtype: int64"
      ]
     },
     "execution_count": 134,
     "metadata": {},
     "output_type": "execute_result"
    }
   ],
   "source": [
    "x.isna().sum()"
   ]
  },
  {
   "cell_type": "code",
   "execution_count": 166,
   "id": "2fd413b7",
   "metadata": {},
   "outputs": [
    {
     "data": {
      "text/html": [
       "<div>\n",
       "<style scoped>\n",
       "    .dataframe tbody tr th:only-of-type {\n",
       "        vertical-align: middle;\n",
       "    }\n",
       "\n",
       "    .dataframe tbody tr th {\n",
       "        vertical-align: top;\n",
       "    }\n",
       "\n",
       "    .dataframe thead th {\n",
       "        text-align: right;\n",
       "    }\n",
       "</style>\n",
       "<table border=\"1\" class=\"dataframe\">\n",
       "  <thead>\n",
       "    <tr style=\"text-align: right;\">\n",
       "      <th></th>\n",
       "      <th>Zone</th>\n",
       "      <th>Site Address</th>\n",
       "      <th>Region</th>\n",
       "      <th>Opportunity ID</th>\n",
       "      <th>Opp Created On</th>\n",
       "      <th>Enquiry Created By</th>\n",
       "      <th>Customer Name</th>\n",
       "      <th>Contact Number</th>\n",
       "      <th>E-Mail</th>\n",
       "      <th>City</th>\n",
       "      <th>...</th>\n",
       "      <th>Gross Value</th>\n",
       "      <th>Net Value</th>\n",
       "      <th>Basic Value (at DP)</th>\n",
       "      <th>Standard Discount</th>\n",
       "      <th>1st Discount Given</th>\n",
       "      <th>Closed Customer value</th>\n",
       "      <th>Closed Basic value</th>\n",
       "      <th>MSC Material value</th>\n",
       "      <th>MSC Gross Value</th>\n",
       "      <th>Lost Price</th>\n",
       "    </tr>\n",
       "  </thead>\n",
       "  <tbody>\n",
       "    <tr>\n",
       "      <th>10147</th>\n",
       "      <td>Not assigned</td>\n",
       "      <td>Village Hyatpur Rurki / Navashehar 144532 / IN</td>\n",
       "      <td>#</td>\n",
       "      <td>512479</td>\n",
       "      <td>14.02.2022</td>\n",
       "      <td>Connect Center</td>\n",
       "      <td>Amarjit Singh</td>\n",
       "      <td>+91 8847569067</td>\n",
       "      <td>Sarvjitkaur_kaur2132@yahoo.com</td>\n",
       "      <td>Navashehar</td>\n",
       "      <td>...</td>\n",
       "      <td>0</td>\n",
       "      <td>0</td>\n",
       "      <td>0</td>\n",
       "      <td>0</td>\n",
       "      <td>0.00 INR</td>\n",
       "      <td>0</td>\n",
       "      <td>0</td>\n",
       "      <td>0</td>\n",
       "      <td>0</td>\n",
       "      <td>0</td>\n",
       "    </tr>\n",
       "    <tr>\n",
       "      <th>10148</th>\n",
       "      <td>Not assigned</td>\n",
       "      <td>Vipanchika house ,SN Junction / Trippunithura ...</td>\n",
       "      <td>#</td>\n",
       "      <td>533232</td>\n",
       "      <td>07.04.2022</td>\n",
       "      <td>Connect Center</td>\n",
       "      <td>Dr Sreejith S</td>\n",
       "      <td>+91 9400626123</td>\n",
       "      <td>drsreeje@gmail.com</td>\n",
       "      <td>Trippunithura</td>\n",
       "      <td>...</td>\n",
       "      <td>0</td>\n",
       "      <td>0</td>\n",
       "      <td>0</td>\n",
       "      <td>0</td>\n",
       "      <td>0.00 INR</td>\n",
       "      <td>0</td>\n",
       "      <td>0</td>\n",
       "      <td>0</td>\n",
       "      <td>0</td>\n",
       "      <td>0</td>\n",
       "    </tr>\n",
       "    <tr>\n",
       "      <th>10149</th>\n",
       "      <td>Not assigned</td>\n",
       "      <td>collecterate road / Rewa 486001 / IN</td>\n",
       "      <td>#</td>\n",
       "      <td>552356</td>\n",
       "      <td>30.05.2022</td>\n",
       "      <td>Connect Center</td>\n",
       "      <td>Mohd Ishtiyaq</td>\n",
       "      <td>+91 9425841888</td>\n",
       "      <td>ishtiyaq.rewa@gmail.com</td>\n",
       "      <td>Rewa</td>\n",
       "      <td>...</td>\n",
       "      <td>0</td>\n",
       "      <td>0</td>\n",
       "      <td>0</td>\n",
       "      <td>0</td>\n",
       "      <td>0.00 INR</td>\n",
       "      <td>0</td>\n",
       "      <td>0</td>\n",
       "      <td>0</td>\n",
       "      <td>0</td>\n",
       "      <td>0</td>\n",
       "    </tr>\n",
       "    <tr>\n",
       "      <th>10150</th>\n",
       "      <td>Not assigned</td>\n",
       "      <td>karnal 132001 / IN</td>\n",
       "      <td>#</td>\n",
       "      <td>563350</td>\n",
       "      <td>24.06.2022</td>\n",
       "      <td>Sales</td>\n",
       "      <td>The Design Room</td>\n",
       "      <td>+91 9518069000</td>\n",
       "      <td>veekayguru@gmail.com</td>\n",
       "      <td>karnal</td>\n",
       "      <td>...</td>\n",
       "      <td>169,962.29 INR</td>\n",
       "      <td>137,901.10 INR</td>\n",
       "      <td>124,110.99 INR</td>\n",
       "      <td>18,804.70 INR</td>\n",
       "      <td>0.00 INR</td>\n",
       "      <td>0.00 INR</td>\n",
       "      <td>0.00 INR</td>\n",
       "      <td>0.00 INR</td>\n",
       "      <td>0</td>\n",
       "      <td>0</td>\n",
       "    </tr>\n",
       "    <tr>\n",
       "      <th>10151</th>\n",
       "      <td>Not assigned</td>\n",
       "      <td>satna 485001 / IN</td>\n",
       "      <td>#</td>\n",
       "      <td>396128</td>\n",
       "      <td>19.03.2021</td>\n",
       "      <td>#</td>\n",
       "      <td>Himansh Manghnani</td>\n",
       "      <td>+91 8878886488</td>\n",
       "      <td>himanshumanghnani01@gmail.com</td>\n",
       "      <td>satna</td>\n",
       "      <td>...</td>\n",
       "      <td>0</td>\n",
       "      <td>0</td>\n",
       "      <td>0</td>\n",
       "      <td>0</td>\n",
       "      <td>0.00 INR</td>\n",
       "      <td>0</td>\n",
       "      <td>0</td>\n",
       "      <td>0</td>\n",
       "      <td>0</td>\n",
       "      <td>0</td>\n",
       "    </tr>\n",
       "  </tbody>\n",
       "</table>\n",
       "<p>5 rows × 63 columns</p>\n",
       "</div>"
      ],
      "text/plain": [
       "               Zone                                       Site Address Region  \\\n",
       "10147  Not assigned     Village Hyatpur Rurki / Navashehar 144532 / IN      #   \n",
       "10148  Not assigned  Vipanchika house ,SN Junction / Trippunithura ...      #   \n",
       "10149  Not assigned               collecterate road / Rewa 486001 / IN      #   \n",
       "10150  Not assigned                                 karnal 132001 / IN      #   \n",
       "10151  Not assigned                                  satna 485001 / IN      #   \n",
       "\n",
       "       Opportunity ID Opp Created On Enquiry Created By      Customer Name  \\\n",
       "10147          512479     14.02.2022     Connect Center      Amarjit Singh   \n",
       "10148          533232     07.04.2022     Connect Center      Dr Sreejith S   \n",
       "10149          552356     30.05.2022     Connect Center      Mohd Ishtiyaq   \n",
       "10150          563350     24.06.2022              Sales    The Design Room   \n",
       "10151          396128     19.03.2021                  #  Himansh Manghnani   \n",
       "\n",
       "       Contact Number                          E-Mail           City  ...  \\\n",
       "10147  +91 8847569067  Sarvjitkaur_kaur2132@yahoo.com     Navashehar  ...   \n",
       "10148  +91 9400626123              drsreeje@gmail.com  Trippunithura  ...   \n",
       "10149  +91 9425841888         ishtiyaq.rewa@gmail.com           Rewa  ...   \n",
       "10150  +91 9518069000            veekayguru@gmail.com         karnal  ...   \n",
       "10151  +91 8878886488   himanshumanghnani01@gmail.com          satna  ...   \n",
       "\n",
       "          Gross Value       Net Value Basic Value (at DP) Standard Discount  \\\n",
       "10147               0               0                   0                 0   \n",
       "10148               0               0                   0                 0   \n",
       "10149               0               0                   0                 0   \n",
       "10150  169,962.29 INR  137,901.10 INR      124,110.99 INR     18,804.70 INR   \n",
       "10151               0               0                   0                 0   \n",
       "\n",
       "      1st Discount Given Closed Customer value Closed Basic value  \\\n",
       "10147           0.00 INR                     0                  0   \n",
       "10148           0.00 INR                     0                  0   \n",
       "10149           0.00 INR                     0                  0   \n",
       "10150           0.00 INR              0.00 INR           0.00 INR   \n",
       "10151           0.00 INR                     0                  0   \n",
       "\n",
       "      MSC Material value MSC Gross Value Lost Price  \n",
       "10147                  0               0          0  \n",
       "10148                  0               0          0  \n",
       "10149                  0               0          0  \n",
       "10150           0.00 INR               0          0  \n",
       "10151                  0               0          0  \n",
       "\n",
       "[5 rows x 63 columns]"
      ]
     },
     "execution_count": 166,
     "metadata": {},
     "output_type": "execute_result"
    }
   ],
   "source": [
    "x.tail()"
   ]
  },
  {
   "cell_type": "code",
   "execution_count": 167,
   "id": "677f79f3",
   "metadata": {},
   "outputs": [],
   "source": [
    "x.replace(\"#\",np.NaN,inplace=True)"
   ]
  },
  {
   "cell_type": "code",
   "execution_count": 168,
   "id": "ba345fee",
   "metadata": {},
   "outputs": [
    {
     "data": {
      "text/html": [
       "<div>\n",
       "<style scoped>\n",
       "    .dataframe tbody tr th:only-of-type {\n",
       "        vertical-align: middle;\n",
       "    }\n",
       "\n",
       "    .dataframe tbody tr th {\n",
       "        vertical-align: top;\n",
       "    }\n",
       "\n",
       "    .dataframe thead th {\n",
       "        text-align: right;\n",
       "    }\n",
       "</style>\n",
       "<table border=\"1\" class=\"dataframe\">\n",
       "  <thead>\n",
       "    <tr style=\"text-align: right;\">\n",
       "      <th></th>\n",
       "      <th>Zone</th>\n",
       "      <th>Site Address</th>\n",
       "      <th>Region</th>\n",
       "      <th>Opportunity ID</th>\n",
       "      <th>Opp Created On</th>\n",
       "      <th>Enquiry Created By</th>\n",
       "      <th>Customer Name</th>\n",
       "      <th>Contact Number</th>\n",
       "      <th>E-Mail</th>\n",
       "      <th>City</th>\n",
       "      <th>...</th>\n",
       "      <th>Gross Value</th>\n",
       "      <th>Net Value</th>\n",
       "      <th>Basic Value (at DP)</th>\n",
       "      <th>Standard Discount</th>\n",
       "      <th>1st Discount Given</th>\n",
       "      <th>Closed Customer value</th>\n",
       "      <th>Closed Basic value</th>\n",
       "      <th>MSC Material value</th>\n",
       "      <th>MSC Gross Value</th>\n",
       "      <th>Lost Price</th>\n",
       "    </tr>\n",
       "  </thead>\n",
       "  <tbody>\n",
       "    <tr>\n",
       "      <th>10147</th>\n",
       "      <td>Not assigned</td>\n",
       "      <td>Village Hyatpur Rurki / Navashehar 144532 / IN</td>\n",
       "      <td>NaN</td>\n",
       "      <td>512479</td>\n",
       "      <td>14.02.2022</td>\n",
       "      <td>Connect Center</td>\n",
       "      <td>Amarjit Singh</td>\n",
       "      <td>+91 8847569067</td>\n",
       "      <td>Sarvjitkaur_kaur2132@yahoo.com</td>\n",
       "      <td>Navashehar</td>\n",
       "      <td>...</td>\n",
       "      <td>0</td>\n",
       "      <td>0</td>\n",
       "      <td>0</td>\n",
       "      <td>0</td>\n",
       "      <td>0.00 INR</td>\n",
       "      <td>0</td>\n",
       "      <td>0</td>\n",
       "      <td>0</td>\n",
       "      <td>0</td>\n",
       "      <td>0</td>\n",
       "    </tr>\n",
       "    <tr>\n",
       "      <th>10148</th>\n",
       "      <td>Not assigned</td>\n",
       "      <td>Vipanchika house ,SN Junction / Trippunithura ...</td>\n",
       "      <td>NaN</td>\n",
       "      <td>533232</td>\n",
       "      <td>07.04.2022</td>\n",
       "      <td>Connect Center</td>\n",
       "      <td>Dr Sreejith S</td>\n",
       "      <td>+91 9400626123</td>\n",
       "      <td>drsreeje@gmail.com</td>\n",
       "      <td>Trippunithura</td>\n",
       "      <td>...</td>\n",
       "      <td>0</td>\n",
       "      <td>0</td>\n",
       "      <td>0</td>\n",
       "      <td>0</td>\n",
       "      <td>0.00 INR</td>\n",
       "      <td>0</td>\n",
       "      <td>0</td>\n",
       "      <td>0</td>\n",
       "      <td>0</td>\n",
       "      <td>0</td>\n",
       "    </tr>\n",
       "    <tr>\n",
       "      <th>10149</th>\n",
       "      <td>Not assigned</td>\n",
       "      <td>collecterate road / Rewa 486001 / IN</td>\n",
       "      <td>NaN</td>\n",
       "      <td>552356</td>\n",
       "      <td>30.05.2022</td>\n",
       "      <td>Connect Center</td>\n",
       "      <td>Mohd Ishtiyaq</td>\n",
       "      <td>+91 9425841888</td>\n",
       "      <td>ishtiyaq.rewa@gmail.com</td>\n",
       "      <td>Rewa</td>\n",
       "      <td>...</td>\n",
       "      <td>0</td>\n",
       "      <td>0</td>\n",
       "      <td>0</td>\n",
       "      <td>0</td>\n",
       "      <td>0.00 INR</td>\n",
       "      <td>0</td>\n",
       "      <td>0</td>\n",
       "      <td>0</td>\n",
       "      <td>0</td>\n",
       "      <td>0</td>\n",
       "    </tr>\n",
       "    <tr>\n",
       "      <th>10150</th>\n",
       "      <td>Not assigned</td>\n",
       "      <td>karnal 132001 / IN</td>\n",
       "      <td>NaN</td>\n",
       "      <td>563350</td>\n",
       "      <td>24.06.2022</td>\n",
       "      <td>Sales</td>\n",
       "      <td>The Design Room</td>\n",
       "      <td>+91 9518069000</td>\n",
       "      <td>veekayguru@gmail.com</td>\n",
       "      <td>karnal</td>\n",
       "      <td>...</td>\n",
       "      <td>169,962.29 INR</td>\n",
       "      <td>137,901.10 INR</td>\n",
       "      <td>124,110.99 INR</td>\n",
       "      <td>18,804.70 INR</td>\n",
       "      <td>0.00 INR</td>\n",
       "      <td>0.00 INR</td>\n",
       "      <td>0.00 INR</td>\n",
       "      <td>0.00 INR</td>\n",
       "      <td>0</td>\n",
       "      <td>0</td>\n",
       "    </tr>\n",
       "    <tr>\n",
       "      <th>10151</th>\n",
       "      <td>Not assigned</td>\n",
       "      <td>satna 485001 / IN</td>\n",
       "      <td>NaN</td>\n",
       "      <td>396128</td>\n",
       "      <td>19.03.2021</td>\n",
       "      <td>NaN</td>\n",
       "      <td>Himansh Manghnani</td>\n",
       "      <td>+91 8878886488</td>\n",
       "      <td>himanshumanghnani01@gmail.com</td>\n",
       "      <td>satna</td>\n",
       "      <td>...</td>\n",
       "      <td>0</td>\n",
       "      <td>0</td>\n",
       "      <td>0</td>\n",
       "      <td>0</td>\n",
       "      <td>0.00 INR</td>\n",
       "      <td>0</td>\n",
       "      <td>0</td>\n",
       "      <td>0</td>\n",
       "      <td>0</td>\n",
       "      <td>0</td>\n",
       "    </tr>\n",
       "  </tbody>\n",
       "</table>\n",
       "<p>5 rows × 63 columns</p>\n",
       "</div>"
      ],
      "text/plain": [
       "               Zone                                       Site Address Region  \\\n",
       "10147  Not assigned     Village Hyatpur Rurki / Navashehar 144532 / IN    NaN   \n",
       "10148  Not assigned  Vipanchika house ,SN Junction / Trippunithura ...    NaN   \n",
       "10149  Not assigned               collecterate road / Rewa 486001 / IN    NaN   \n",
       "10150  Not assigned                                 karnal 132001 / IN    NaN   \n",
       "10151  Not assigned                                  satna 485001 / IN    NaN   \n",
       "\n",
       "       Opportunity ID Opp Created On Enquiry Created By      Customer Name  \\\n",
       "10147          512479     14.02.2022     Connect Center      Amarjit Singh   \n",
       "10148          533232     07.04.2022     Connect Center      Dr Sreejith S   \n",
       "10149          552356     30.05.2022     Connect Center      Mohd Ishtiyaq   \n",
       "10150          563350     24.06.2022              Sales    The Design Room   \n",
       "10151          396128     19.03.2021                NaN  Himansh Manghnani   \n",
       "\n",
       "       Contact Number                          E-Mail           City  ...  \\\n",
       "10147  +91 8847569067  Sarvjitkaur_kaur2132@yahoo.com     Navashehar  ...   \n",
       "10148  +91 9400626123              drsreeje@gmail.com  Trippunithura  ...   \n",
       "10149  +91 9425841888         ishtiyaq.rewa@gmail.com           Rewa  ...   \n",
       "10150  +91 9518069000            veekayguru@gmail.com         karnal  ...   \n",
       "10151  +91 8878886488   himanshumanghnani01@gmail.com          satna  ...   \n",
       "\n",
       "          Gross Value       Net Value Basic Value (at DP) Standard Discount  \\\n",
       "10147               0               0                   0                 0   \n",
       "10148               0               0                   0                 0   \n",
       "10149               0               0                   0                 0   \n",
       "10150  169,962.29 INR  137,901.10 INR      124,110.99 INR     18,804.70 INR   \n",
       "10151               0               0                   0                 0   \n",
       "\n",
       "      1st Discount Given Closed Customer value Closed Basic value  \\\n",
       "10147           0.00 INR                     0                  0   \n",
       "10148           0.00 INR                     0                  0   \n",
       "10149           0.00 INR                     0                  0   \n",
       "10150           0.00 INR              0.00 INR           0.00 INR   \n",
       "10151           0.00 INR                     0                  0   \n",
       "\n",
       "      MSC Material value MSC Gross Value Lost Price  \n",
       "10147                  0               0          0  \n",
       "10148                  0               0          0  \n",
       "10149                  0               0          0  \n",
       "10150           0.00 INR               0          0  \n",
       "10151                  0               0          0  \n",
       "\n",
       "[5 rows x 63 columns]"
      ]
     },
     "execution_count": 168,
     "metadata": {},
     "output_type": "execute_result"
    }
   ],
   "source": [
    "x.tail()"
   ]
  },
  {
   "cell_type": "code",
   "execution_count": 139,
   "id": "73560027",
   "metadata": {
    "scrolled": true
   },
   "outputs": [
    {
     "data": {
      "text/plain": [
       "Zone                      0\n",
       "Site Address              0\n",
       "Region                   95\n",
       "Opportunity ID            0\n",
       "Opp Created On            0\n",
       "                         ..\n",
       "Closed Customer value     0\n",
       "Closed Basic value        0\n",
       "MSC Material value        0\n",
       "MSC Gross Value           0\n",
       "Lost Price                0\n",
       "Length: 63, dtype: int64"
      ]
     },
     "execution_count": 139,
     "metadata": {},
     "output_type": "execute_result"
    }
   ],
   "source": [
    "x.isna().sum()"
   ]
  },
  {
   "cell_type": "code",
   "execution_count": 114,
   "id": "eac4e0bb",
   "metadata": {},
   "outputs": [
    {
     "data": {
      "text/plain": [
       "array(['UPC BLR 2', 'Bangalore City', 'UPC BLR 1', 'Karnataka-Upcountry',\n",
       "       'Bangalore', 'ROTN', 'Chennai', 'Chennai City', 'Kerala',\n",
       "       'Central Bengal', 'Kolkata City', 'North East', 'East-Zone',\n",
       "       'Kolkata', nan, 'North Bengal', 'Jharkhand', 'East Central',\n",
       "       'Chattisgarh', 'Bihar', 'Odisha', 'Orissa', 'Patna', 'Raipur',\n",
       "       'Gurgaon', 'HO', 'Hyderabad City', 'Andhra Pradesh', 'Telanagana',\n",
       "       'Hyderabad', 'hyderabad', 'BILASPUR', 'NCR 2', 'NCR 1', 'NCR',\n",
       "       'NCR 3', 'Faridabad', 'NCR2', 'Delhi', 'PB', 'UT', 'EUP', 'CUP',\n",
       "       'Chandigarh', 'Rohtak', 'Uttar Pradesh - East', 'North-Zone',\n",
       "       'Punjab', 'Pune - City', 'Pune', 'Nagpur', 'MMR 2', 'MMR 1', 'MMR',\n",
       "       'Goa', 'Mumbai', 'Kolhapur', 'Rajasthan', 'Gujarat',\n",
       "       'Madhya Pradesh', 'Jaipur', 'BHOPAL'], dtype=object)"
      ]
     },
     "execution_count": 114,
     "metadata": {},
     "output_type": "execute_result"
    }
   ],
   "source": [
    "#checking all cities in region column \n",
    "x['Region'].unique()"
   ]
  },
  {
   "cell_type": "code",
   "execution_count": 140,
   "id": "bae3ddf8",
   "metadata": {},
   "outputs": [
    {
     "data": {
      "text/plain": [
       "Region\n",
       "Andhra Pradesh          380\n",
       "BHOPAL                   10\n",
       "BILASPUR                  1\n",
       "Bangalore                52\n",
       "Bangalore City          534\n",
       "                       ... \n",
       "UPC BLR 1               289\n",
       "UPC BLR 2               146\n",
       "UT                      202\n",
       "Uttar Pradesh - East      5\n",
       "hyderabad                 2\n",
       "Name: Region, Length: 61, dtype: int64"
      ]
     },
     "execution_count": 140,
     "metadata": {},
     "output_type": "execute_result"
    }
   ],
   "source": [
    "#checking how much time cities repited  in region column \n",
    "x.groupby('Region')['Region'].agg(\"count\")"
   ]
  },
  {
   "cell_type": "code",
   "execution_count": 141,
   "id": "ab306392",
   "metadata": {},
   "outputs": [
    {
     "data": {
      "text/plain": [
       "Site Address            0\n",
       "Region                 95\n",
       "Opportunity ID          0\n",
       "Opp Created On          0\n",
       "Enquiry Created By    231\n",
       "Customer Name           0\n",
       "Contact Number          4\n",
       "E-Mail                  4\n",
       "City                    0\n",
       "dtype: int64"
      ]
     },
     "execution_count": 141,
     "metadata": {},
     "output_type": "execute_result"
    }
   ],
   "source": [
    "# ckecking for blank columns      \n",
    "x.isna().sum()[1:10]                      "
   ]
  },
  {
   "cell_type": "code",
   "execution_count": 142,
   "id": "6b40b098",
   "metadata": {},
   "outputs": [
    {
     "name": "stdout",
     "output_type": "stream",
     "text": [
      "no. of rows :-    10152\n",
      "no. of columns:-  63\n"
     ]
    }
   ],
   "source": [
    "print(\"no. of rows :-   \",x.shape[0])\n",
    "print(\"no. of columns:- \",x.shape[-1])\n"
   ]
  },
  {
   "cell_type": "markdown",
   "id": "9f6e13bd",
   "metadata": {},
   "source": [
    "#  null values in column \n",
    "Created By    231         fill\n",
    "CSE Name                  1994                          #fill\n",
    "Nature of Work             145                          #ratio check fill\n",
    "Influencer Name           8538   (84% unavailable data) #fill              \n",
    "First Interaction Date    1334                 -------#filling date\n",
    "Site Visit Date                     5366              \"\"                  Type-date\n",
    "Persuasion Date                     8289          #drop (81% data unavailable)     \"\"\n",
    "Showroom Visit Date                 7323             \"\"\n",
    "Boq Received Date                   7725               \"\"\n",
    "Order in Hand              10146             drop\n",
    "Order in Hand Date         10146              drop\n",
    "Latest Quote Date           2027                       fill   Type-date         \n",
    "Quote Review Date           9478              #drop\n",
    "Expected Site Readiness Date      968                    \"\"\n",
    "1st Discount Given Date          9672         #drop\n",
    "2nd Discount Given Date         10077         #drop  \n",
    "Order Basis to Fenesta           3497                 fill           \n",
    "Quote Area                       3497                 mean fill\n",
    "Next Step                        8443      /drop/fill? (83% unavailable data)\n",
    "Next Step Due Date               9837  drop\n",
    "Region                 95                             fill\n",
    "Enquiry Created By    231                  fill\n",
    "Sales Owner ID        74    mean "
   ]
  },
  {
   "cell_type": "code",
   "execution_count": 189,
   "id": "3e895d4c",
   "metadata": {},
   "outputs": [
    {
     "data": {
      "text/plain": [
       "0"
      ]
     },
     "execution_count": 189,
     "metadata": {},
     "output_type": "execute_result"
    }
   ],
   "source": [
    "#checking null values in specific column\n",
    "x[\"Nature of Work\"].isna().sum()\n"
   ]
  },
  {
   "cell_type": "code",
   "execution_count": 224,
   "id": "21e68a73",
   "metadata": {},
   "outputs": [
    {
     "data": {
      "text/plain": [
       "20     New Built\n",
       "21     New Built\n",
       "22     New Built\n",
       "23     New Built\n",
       "24     New Built\n",
       "25    Renovation\n",
       "26     New Built\n",
       "27     New Built\n",
       "28     New Built\n",
       "29    Renovation\n",
       "30     New Built\n",
       "31     New Built\n",
       "32     New Built\n",
       "33     New Built\n",
       "34    Renovation\n",
       "35    Renovation\n",
       "36     New Built\n",
       "37    Renovation\n",
       "38     New Built\n",
       "39     New Built\n",
       "40    Renovation\n",
       "41    Renovation\n",
       "42     New Built\n",
       "43     New Built\n",
       "Name: Nature of Work, dtype: object"
      ]
     },
     "execution_count": 224,
     "metadata": {},
     "output_type": "execute_result"
    }
   ],
   "source": [
    "x[\"Nature of Work\"][20:44]     #ratio check"
   ]
  },
  {
   "cell_type": "code",
   "execution_count": null,
   "id": "af9510aa",
   "metadata": {},
   "outputs": [],
   "source": []
  },
  {
   "cell_type": "code",
   "execution_count": 169,
   "id": "f49b398f",
   "metadata": {},
   "outputs": [],
   "source": [
    "x['Region']=x['Region'].ffill()    # region fill"
   ]
  },
  {
   "cell_type": "code",
   "execution_count": 178,
   "id": "c1a10490",
   "metadata": {},
   "outputs": [
    {
     "data": {
      "text/plain": [
       "0"
      ]
     },
     "execution_count": 178,
     "metadata": {},
     "output_type": "execute_result"
    }
   ],
   "source": [
    "x[\"CSE Name\"].isna().sum()"
   ]
  },
  {
   "cell_type": "code",
   "execution_count": 177,
   "id": "f848d703",
   "metadata": {},
   "outputs": [],
   "source": [
    "x['CSE Name']=x['CSE Name'].ffill() # CSE name fill"
   ]
  },
  {
   "cell_type": "code",
   "execution_count": 199,
   "id": "34395a33",
   "metadata": {},
   "outputs": [
    {
     "name": "stdout",
     "output_type": "stream",
     "text": [
      "<class 'pandas.core.series.Series'>\n",
      "RangeIndex: 10152 entries, 0 to 10151\n",
      "Series name: Nature of Work\n",
      "Non-Null Count  Dtype \n",
      "--------------  ----- \n",
      "10007 non-null  object\n",
      "dtypes: object(1)\n",
      "memory usage: 79.4+ KB\n"
     ]
    }
   ],
   "source": [
    "# changing data type of (Natue of work) column\n",
    "x[\"Nature of Work\"].info()"
   ]
  },
  {
   "cell_type": "code",
   "execution_count": 213,
   "id": "1c572fd8",
   "metadata": {},
   "outputs": [],
   "source": [
    "#changing data type of (nature of work)\n",
    "x[\"Nature of Work\"]=x[\"Nature of Work\"].astype(\"object\")"
   ]
  },
  {
   "cell_type": "code",
   "execution_count": 214,
   "id": "6adcd120",
   "metadata": {},
   "outputs": [
    {
     "name": "stdout",
     "output_type": "stream",
     "text": [
      "New Built:-  6779\n",
      "Renovation:- 3373\n"
     ]
    }
   ],
   "source": [
    "a=0                                   #ratio check\n",
    "b=0\n",
    "for i in x[\"Nature of Work\"]:\n",
    "    if 'New Built' in i:\n",
    "        a=a+1\n",
    "    else:\n",
    "        b=b+1\n",
    "print(\"New Built:- \",a)\n",
    "print(\"Renovation:-\",b)"
   ]
  },
  {
   "cell_type": "code",
   "execution_count": 222,
   "id": "6dd891d3",
   "metadata": {},
   "outputs": [],
   "source": [
    "x[\"Nature of Work\"]=x[\"Nature of Work\"].replace(\"nan\",\"New Built\",regex=True)"
   ]
  },
  {
   "cell_type": "code",
   "execution_count": 279,
   "id": "3586e6e4",
   "metadata": {},
   "outputs": [
    {
     "data": {
      "text/plain": [
       "8538"
      ]
     },
     "execution_count": 279,
     "metadata": {},
     "output_type": "execute_result"
    }
   ],
   "source": [
    "x[\"Influencer Name\"].isna().sum()"
   ]
  },
  {
   "cell_type": "code",
   "execution_count": null,
   "id": "786171ce",
   "metadata": {},
   "outputs": [],
   "source": []
  },
  {
   "cell_type": "code",
   "execution_count": 4,
   "id": "6db1e794",
   "metadata": {},
   "outputs": [
    {
     "ename": "NameError",
     "evalue": "name 'x' is not defined",
     "output_type": "error",
     "traceback": [
      "\u001b[1;31m---------------------------------------------------------------------------\u001b[0m",
      "\u001b[1;31mNameError\u001b[0m                                 Traceback (most recent call last)",
      "Cell \u001b[1;32mIn[4], line 1\u001b[0m\n\u001b[1;32m----> 1\u001b[0m \u001b[43mx\u001b[49m[\u001b[38;5;124m\"\u001b[39m\u001b[38;5;124m1st Discount Given Date\u001b[39m\u001b[38;5;124m\"\u001b[39m]\u001b[38;5;241m.\u001b[39misna()\u001b[38;5;241m.\u001b[39msum()\n",
      "\u001b[1;31mNameError\u001b[0m: name 'x' is not defined"
     ]
    }
   ],
   "source": [
    "x[\"1st Discount Given Date\"].isna().sum()"
   ]
  },
  {
   "cell_type": "code",
   "execution_count": 3,
   "id": "8f6e8a41",
   "metadata": {},
   "outputs": [
    {
     "ename": "NameError",
     "evalue": "name 'x' is not defined",
     "output_type": "error",
     "traceback": [
      "\u001b[1;31m---------------------------------------------------------------------------\u001b[0m",
      "\u001b[1;31mNameError\u001b[0m                                 Traceback (most recent call last)",
      "Cell \u001b[1;32mIn[3], line 1\u001b[0m\n\u001b[1;32m----> 1\u001b[0m \u001b[43mx\u001b[49m\u001b[38;5;241m.\u001b[39mdrop(columns\u001b[38;5;241m=\u001b[39m[\u001b[38;5;124m'\u001b[39m\u001b[38;5;124mEnquiry Created By\u001b[39m\u001b[38;5;124m'\u001b[39m, \u001b[38;5;124m'\u001b[39m\u001b[38;5;124mPersuasion Date\u001b[39m\u001b[38;5;124m'\u001b[39m,\u001b[38;5;124m'\u001b[39m\u001b[38;5;124mShowroom Visit Date\u001b[39m\u001b[38;5;124m'\u001b[39m])\n",
      "\u001b[1;31mNameError\u001b[0m: name 'x' is not defined"
     ]
    }
   ],
   "source": [
    "x.drop(columns=['Enquiry Created By', 'Persuasion Date','Showroom Visit Date'])"
   ]
  },
  {
   "cell_type": "code",
   "execution_count": 280,
   "id": "dd382a0c",
   "metadata": {},
   "outputs": [
    {
     "data": {
      "text/plain": [
       "0        Arc Parithosh Parithosh Architects\n",
       "1                                       NaN\n",
       "2                                       NaN\n",
       "3                                       NaN\n",
       "4                                       NaN\n",
       "                        ...                \n",
       "10147                                   NaN\n",
       "10148                                   NaN\n",
       "10149                                   NaN\n",
       "10150                                   NaN\n",
       "10151                                   NaN\n",
       "Name: Influencer Name, Length: 10152, dtype: object"
      ]
     },
     "execution_count": 280,
     "metadata": {},
     "output_type": "execute_result"
    }
   ],
   "source": [
    "x.pop(\"Influencer Name\")"
   ]
  },
  {
   "cell_type": "code",
   "execution_count": 281,
   "id": "cad0ae90",
   "metadata": {},
   "outputs": [
    {
     "data": {
      "text/plain": [
       "(10152, 52)"
      ]
     },
     "execution_count": 281,
     "metadata": {},
     "output_type": "execute_result"
    }
   ],
   "source": [
    "x.shape"
   ]
  },
  {
   "cell_type": "code",
   "execution_count": 288,
   "id": "d95e48bc",
   "metadata": {},
   "outputs": [],
   "source": [
    "x['Order Basis to Fenesta']=x['Order Basis to Fenesta'].ffill()"
   ]
  },
  {
   "cell_type": "code",
   "execution_count": 295,
   "id": "2e7e316e",
   "metadata": {},
   "outputs": [
    {
     "name": "stdout",
     "output_type": "stream",
     "text": [
      "<class 'pandas.core.series.Series'>\n",
      "RangeIndex: 10152 entries, 0 to 10151\n",
      "Series name: Quote Area\n",
      "Non-Null Count  Dtype \n",
      "--------------  ----- \n",
      "6655 non-null   object\n",
      "dtypes: object(1)\n",
      "memory usage: 79.4+ KB\n"
     ]
    }
   ],
   "source": [
    "x['Quote Area'].info()"
   ]
  },
  {
   "cell_type": "code",
   "execution_count": 296,
   "id": "caf419f8",
   "metadata": {},
   "outputs": [
    {
     "data": {
      "text/plain": [
       "3497"
      ]
     },
     "execution_count": 296,
     "metadata": {},
     "output_type": "execute_result"
    }
   ],
   "source": [
    "x['Quote Area'].isna().sum()"
   ]
  },
  {
   "cell_type": "code",
   "execution_count": 298,
   "id": "317ad9dd",
   "metadata": {},
   "outputs": [
    {
     "data": {
      "text/plain": [
       "0         110.24\n",
       "1        1132.22\n",
       "2         569.12\n",
       "3         111.85\n",
       "4          56.85\n",
       "          ...   \n",
       "10147        NaN\n",
       "10148        NaN\n",
       "10149        NaN\n",
       "10150     165.53\n",
       "10151        NaN\n",
       "Name: Quote Area, Length: 10152, dtype: object"
      ]
     },
     "execution_count": 298,
     "metadata": {},
     "output_type": "execute_result"
    }
   ],
   "source": [
    "x[\"Quote Area\"]"
   ]
  },
  {
   "cell_type": "code",
   "execution_count": 299,
   "id": "2419440d",
   "metadata": {},
   "outputs": [],
   "source": [
    "x[\"Quote Area\"]=x[\"Quote Area\"].astype(float)"
   ]
  },
  {
   "cell_type": "code",
   "execution_count": 300,
   "id": "6c69a749",
   "metadata": {},
   "outputs": [
    {
     "name": "stdout",
     "output_type": "stream",
     "text": [
      "<class 'pandas.core.series.Series'>\n",
      "RangeIndex: 10152 entries, 0 to 10151\n",
      "Series name: Quote Area\n",
      "Non-Null Count  Dtype  \n",
      "--------------  -----  \n",
      "6655 non-null   float64\n",
      "dtypes: float64(1)\n",
      "memory usage: 79.4 KB\n"
     ]
    }
   ],
   "source": [
    "x[\"Quote Area\"].info()"
   ]
  },
  {
   "cell_type": "code",
   "execution_count": 301,
   "id": "cc67e0f5",
   "metadata": {},
   "outputs": [
    {
     "data": {
      "text/plain": [
       "732.4408069120963"
      ]
     },
     "execution_count": 301,
     "metadata": {},
     "output_type": "execute_result"
    }
   ],
   "source": [
    "x[\"Quote Area\"].mean()"
   ]
  },
  {
   "cell_type": "code",
   "execution_count": 302,
   "id": "9c657666",
   "metadata": {},
   "outputs": [],
   "source": [
    "x[\"Quote Area\"].fillna(x[\"Quote Area\"].mean(),inplace=True)"
   ]
  },
  {
   "cell_type": "code",
   "execution_count": 344,
   "id": "f2fc91ac",
   "metadata": {},
   "outputs": [
    {
     "data": {
      "text/plain": [
       "Lost Price    0\n",
       "dtype: int64"
      ]
     },
     "execution_count": 344,
     "metadata": {},
     "output_type": "execute_result"
    }
   ],
   "source": [
    "x.isna().sum()[50:511] "
   ]
  },
  {
   "cell_type": "code",
   "execution_count": 305,
   "id": "09c0b7d4",
   "metadata": {},
   "outputs": [],
   "source": [
    "x['Contact Number']=x['Contact Number'].ffill()"
   ]
  },
  {
   "cell_type": "code",
   "execution_count": 306,
   "id": "b07257eb",
   "metadata": {},
   "outputs": [],
   "source": [
    "x['E-Mail']=x['E-Mail'].ffill()"
   ]
  },
  {
   "cell_type": "code",
   "execution_count": 314,
   "id": "077aed11",
   "metadata": {},
   "outputs": [
    {
     "name": "stdout",
     "output_type": "stream",
     "text": [
      "<class 'pandas.core.series.Series'>\n",
      "RangeIndex: 10152 entries, 0 to 10151\n",
      "Series name: Sales Owner ID\n",
      "Non-Null Count  Dtype  \n",
      "--------------  -----  \n",
      "10078 non-null  float64\n",
      "dtypes: float64(1)\n",
      "memory usage: 79.4 KB\n"
     ]
    }
   ],
   "source": [
    "x[\"Sales Owner ID\"].info()"
   ]
  },
  {
   "cell_type": "code",
   "execution_count": 313,
   "id": "3fc8bd06",
   "metadata": {},
   "outputs": [],
   "source": [
    "x[\"Sales Owner ID\"]=x[\"Sales Owner ID\"].astype(float)"
   ]
  },
  {
   "cell_type": "code",
   "execution_count": 315,
   "id": "eb675c1e",
   "metadata": {},
   "outputs": [],
   "source": [
    "x[\"Sales Owner ID\"].fillna(x[\"Sales Owner ID\"].mean(),inplace=True)"
   ]
  },
  {
   "cell_type": "code",
   "execution_count": 335,
   "id": "22577f63",
   "metadata": {},
   "outputs": [],
   "source": [
    "x['WM Quote ID']=x['WM Quote ID'].bfill()"
   ]
  },
  {
   "cell_type": "code",
   "execution_count": 338,
   "id": "228bc711",
   "metadata": {},
   "outputs": [],
   "source": [
    "x['Remarks']=x['Remarks'].bfill()"
   ]
  },
  {
   "cell_type": "code",
   "execution_count": 327,
   "id": "efdf9df8",
   "metadata": {},
   "outputs": [
    {
     "data": {
      "text/plain": [
       "0        NaN\n",
       "1        NaN\n",
       "2        NaN\n",
       "3        NaN\n",
       "4        NaN\n",
       "        ... \n",
       "10147    NaN\n",
       "10148    NaN\n",
       "10149    NaN\n",
       "10150    NaN\n",
       "10151    NaN\n",
       "Name: Order in Hand Date, Length: 10152, dtype: object"
      ]
     },
     "execution_count": 327,
     "metadata": {},
     "output_type": "execute_result"
    }
   ],
   "source": [
    "x.pop(\"Order in Hand Date\")"
   ]
  },
  {
   "cell_type": "code",
   "execution_count": 339,
   "id": "f38de73c",
   "metadata": {},
   "outputs": [
    {
     "data": {
      "text/plain": [
       "0        They contacted 10 days ago. Now they don't hav...\n",
       "1        They contacted 10 days ago. Now they don't hav...\n",
       "2        They contacted 10 days ago. Now they don't hav...\n",
       "3        They contacted 10 days ago. Now they don't hav...\n",
       "4        They contacted 10 days ago. Now they don't hav...\n",
       "                               ...                        \n",
       "10147         CALL DONE. WILL VISIT CLIENT SITE NEXT WEEK.\n",
       "10148                                   HOSPITAL EMERGENCY\n",
       "10149    Had word with client need window for renovated...\n",
       "10150    Had word with client need window for renovated...\n",
       "10151                        client use the other material\n",
       "Name: Remarks, Length: 10152, dtype: object"
      ]
     },
     "execution_count": 339,
     "metadata": {},
     "output_type": "execute_result"
    }
   ],
   "source": [
    "x[\"Remarks\"]"
   ]
  },
  {
   "cell_type": "code",
   "execution_count": 345,
   "id": "0fcd76c1",
   "metadata": {},
   "outputs": [
    {
     "data": {
      "text/plain": [
       "Zone                                0\n",
       "Site Address                        0\n",
       "Region                              0\n",
       "Opportunity ID                      0\n",
       "Opp Created On                      0\n",
       "Customer Name                       0\n",
       "Contact Number                      0\n",
       "E-Mail                              0\n",
       "City                                0\n",
       "State                               0\n",
       "Pincode                             0\n",
       "Source of Enq                       0\n",
       "Sales Owner                         0\n",
       "Sales Owner ID                      0\n",
       "CSE Name                            0\n",
       "Nature of Work                      0\n",
       "Influencer Involved                 0\n",
       "First Interaction Date              0\n",
       "Site Visit Date                     0\n",
       "Product Category                    0\n",
       "Client expectation Price Bracket    0\n",
       "Quote Segment                       0\n",
       "WM Order Type                       0\n",
       "WM Quote ID                         0\n",
       "First Quote Date                    0\n",
       "Latest Quote Date                   0\n",
       "Expected Closure Month              0\n",
       "No. of Sales Quote                  0\n",
       "Won/Lost/In Process                 0\n",
       "Last Progression Stage              0\n",
       "Status-Hot / Warm/ Cold             0\n",
       "Remarks                             0\n",
       "Main Competitor                     0\n",
       "Reason for Status                   0\n",
       "Expected Site Readiness Date        0\n",
       "Order Basis to Fenesta              0\n",
       "Quote Area                          0\n",
       "Window Quantity                     0\n",
       "Window Area(Taken from Customer)    0\n",
       "Expected Value                      0\n",
       "Quote Value                         0\n",
       "Gross Value                         0\n",
       "Net Value                           0\n",
       "Basic Value (at DP)                 0\n",
       "Standard Discount                   0\n",
       "1st Discount Given                  0\n",
       "Closed Customer value               0\n",
       "Closed Basic value                  0\n",
       "MSC Material value                  0\n",
       "MSC Gross Value                     0\n",
       "Lost Price                          0\n",
       "dtype: int64"
      ]
     },
     "execution_count": 345,
     "metadata": {},
     "output_type": "execute_result"
    }
   ],
   "source": [
    "x.isna().sum()"
   ]
  },
  {
   "cell_type": "code",
   "execution_count": 349,
   "id": "8e5cbfab",
   "metadata": {},
   "outputs": [],
   "source": [
    "x.to_excel('1a close data.xlsx')"
   ]
  },
  {
   "cell_type": "code",
   "execution_count": null,
   "id": "af3d0c74",
   "metadata": {},
   "outputs": [],
   "source": []
  }
 ],
 "metadata": {
  "kernelspec": {
   "display_name": "Python 3 (ipykernel)",
   "language": "python",
   "name": "python3"
  },
  "language_info": {
   "codemirror_mode": {
    "name": "ipython",
    "version": 3
   },
   "file_extension": ".py",
   "mimetype": "text/x-python",
   "name": "python",
   "nbconvert_exporter": "python",
   "pygments_lexer": "ipython3",
   "version": "3.10.9"
  }
 },
 "nbformat": 4,
 "nbformat_minor": 5
}
