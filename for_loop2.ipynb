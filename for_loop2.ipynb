{
 "cells": [
  {
   "cell_type": "code",
   "execution_count": 6,
   "id": "d88a5dee",
   "metadata": {},
   "outputs": [
    {
     "name": "stdout",
     "output_type": "stream",
     "text": [
      "['mango', 'banana', 'dragon fruit']\n",
      "['cherry', 'python']\n"
     ]
    }
   ],
   "source": [
    "l=['mango','banana','dragon fruit','cherry','python']\n",
    "a=[]\n",
    "b=[]\n",
    "for i in l:\n",
    "    if 'a' in i:\n",
    "        a.append(i)\n",
    "    else:\n",
    "        b.append(i)\n",
    "print(a)\n",
    "print(b)"
   ]
  },
  {
   "cell_type": "code",
   "execution_count": 56,
   "id": "65c3f30a",
   "metadata": {},
   "outputs": [
    {
     "name": "stdout",
     "output_type": "stream",
     "text": [
      "1\n"
     ]
    }
   ],
   "source": [
    "x={'name':['python','banana','mango','grapes'],\n",
    "  'age':['kafka','c++','java']}\n",
    "a1=[]     #['name', 'age']\n",
    "c=0\n",
    "for i in x:\n",
    "    if 'a' in i:\n",
    "        #c=c+1\n",
    "        a1.append(i)\n",
    "        s=a1.count(i)\n",
    "        \n",
    "print(s)\n",
    "         \n",
    "\n",
    "       "
   ]
  },
  {
   "cell_type": "code",
   "execution_count": 47,
   "id": "2478e269",
   "metadata": {},
   "outputs": [
    {
     "name": "stdout",
     "output_type": "stream",
     "text": [
      "11\n"
     ]
    }
   ],
   "source": [
    "x={'name':['python','banana','mango','grapes'],           #finding \"a\" in dictionary\n",
    "  'age':['kafka','c++','java']}\n",
    "c=0\n",
    "for i in x: #i=name #i=age\n",
    "    for j in i:#j=n #j=a #j=m #j=e #j=a #j=g #j=e\n",
    "        if j=='a': #kya mera e a hota hh? False\n",
    "            c=c+1  #c=0+1=1 #c=1+1=2\n",
    "for k in x.values(): #['python','banana','mango','grapes']\n",
    "    for j in k: #j=python #j=banana  #j=mango\n",
    "        for g in j: #g=p  #g=y # kya mera p a hota hh? False\n",
    "            if g=='a':\n",
    "                c=c+1\n",
    "print(c)"
   ]
  },
  {
   "cell_type": "code",
   "execution_count": 59,
   "id": "2a98298a",
   "metadata": {},
   "outputs": [
    {
     "name": "stdout",
     "output_type": "stream",
     "text": [
      "36\n"
     ]
    }
   ],
   "source": [
    "l=[1,2,3,4,[5,6,7,8]]\n",
    "# sum\n",
    "s=0\n",
    "for i in l:#i=1 #i=2 #i=3 #i=4 #i=[5,6,7,8]\n",
    "    if type(i)==list:#kya mera [5,6,7,8] list hota hh? True\n",
    "        for j in i:#j=5 #j=6 #j=7 #j=8\n",
    "            s=s+j  #s=10+5=15 #s=15+6=21 #s=21+7=28 #s=28+8 =36\n",
    "    else:\n",
    "        s=s+i  #s=0+1=1  #s=1+2=3  #s=3+3=6 #s=6+4=10\n",
    "print(s)"
   ]
  },
  {
   "cell_type": "code",
   "execution_count": null,
   "id": "578d55a5",
   "metadata": {},
   "outputs": [],
   "source": []
  }
 ],
 "metadata": {
  "kernelspec": {
   "display_name": "Python 3 (ipykernel)",
   "language": "python",
   "name": "python3"
  },
  "language_info": {
   "codemirror_mode": {
    "name": "ipython",
    "version": 3
   },
   "file_extension": ".py",
   "mimetype": "text/x-python",
   "name": "python",
   "nbconvert_exporter": "python",
   "pygments_lexer": "ipython3",
   "version": "3.10.9"
  }
 },
 "nbformat": 4,
 "nbformat_minor": 5
}
